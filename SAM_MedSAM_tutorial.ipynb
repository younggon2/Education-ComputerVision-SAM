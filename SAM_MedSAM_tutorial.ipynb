{
  "cells": [
    {
      "cell_type": "markdown",
      "source": [
        "<a target=\"_blank\" href=\"https://colab.research.google.com/github/younggon2/Education-ComputerVision-SAM/blob/master/SAM_MedSAM_tutorial.ipynb\">\n",
        "  <img src=\"https://colab.research.google.com/assets/colab-badge.svg\" alt=\"Open In Colab\"/>\n",
        "</a>"
      ],
      "metadata": {
        "id": "myu29EhfqhxF"
      }
    },
    {
      "cell_type": "markdown",
      "source": [
        "# Environment Set-up"
      ],
      "metadata": {
        "id": "sT3UP7jAv1w1"
      }
    },
    {
      "cell_type": "code",
      "source": [
        "!pip install git+https://github.com/bowang-lab/MedSAM.git"
      ],
      "metadata": {
        "id": "hpkgt78svz43"
      },
      "execution_count": null,
      "outputs": []
    },
    {
      "cell_type": "markdown",
      "source": [
        "# 1.SAM을 이용한 레이블링 (직접 Box 입력)"
      ],
      "metadata": {
        "id": "GyVjbM0Vq5z1"
      }
    },
    {
      "cell_type": "code",
      "source": [
        "# Download SAM model & demo.py\n",
        "\n",
        "!wget https://dl.fbaipublicfiles.com/segment_anything/sam_vit_b_01ec64.pth\n",
        "!wget https://raw.githubusercontent.com/bowang-lab/MedSAM/main/utils/demo.py\n",
        "\n",
        "# Download MedSAM model\n",
        "model_id = \"1UAmWL88roYR7wKlnApw5Bcuzf2iQgk6_&confirm=t\"\n",
        "!gdown $model_id"
      ],
      "metadata": {
        "id": "2HnkWzSvrBaB"
      },
      "execution_count": null,
      "outputs": []
    },
    {
      "cell_type": "markdown",
      "source": [
        "## Model Load"
      ],
      "metadata": {
        "id": "EqdfAs5mrXoj"
      }
    },
    {
      "cell_type": "code",
      "source": [
        "# Load sam model\n",
        "import cv2\n",
        "import os\n",
        "import matplotlib.pyplot as plt\n",
        "from google.colab import output\n",
        "from demo import BboxPromptDemo\n",
        "from segment_anything import sam_model_registry\n",
        "\n",
        "output.enable_custom_widget_manager()\n",
        "SAM_CKPT_PATH = \"sam_vit_b_01ec64.pth\"\n",
        "device = \"cuda\"\n",
        "sam_model = sam_model_registry['vit_b'](checkpoint=SAM_CKPT_PATH)\n",
        "sam_model = sam_model.to(device)\n",
        "sam_model.eval()"
      ],
      "metadata": {
        "id": "PvNE8yhwrQ_j"
      },
      "execution_count": null,
      "outputs": []
    },
    {
      "cell_type": "markdown",
      "source": [
        "## Download demo image"
      ],
      "metadata": {
        "id": "R-APIT6Crjr7"
      }
    },
    {
      "cell_type": "code",
      "source": [
        "# download demo image\n",
        "url = \"https://cdn.pixabay.com/photo/2018/10/01/09/21/pets-3715733_640.jpg\"\n",
        "# curl 요청\n",
        "os.system(\"curl \" + url + \" > test.jpg\")"
      ],
      "metadata": {
        "id": "H8Jc-DS2rmLu"
      },
      "execution_count": null,
      "outputs": []
    },
    {
      "cell_type": "code",
      "source": [
        "# 데이터 확인\n",
        "import cv2\n",
        "import matplotlib.pyplot as plt\n",
        "\n",
        "img = cv2.imread(\"test.jpg\") # 이미지 불러오기\n",
        "img = cv2.cvtColor(img, cv2.COLOR_BGR2RGB) # BGR이미지 > RGB변환\n",
        "\n",
        "plt.imshow(img)\n",
        "plt.show()"
      ],
      "metadata": {
        "id": "IaLiYSxkruXZ"
      },
      "execution_count": null,
      "outputs": []
    },
    {
      "cell_type": "markdown",
      "source": [
        "## Inference"
      ],
      "metadata": {
        "id": "HAMRvDDbrx2V"
      }
    },
    {
      "cell_type": "code",
      "source": [
        "%matplotlib widget\n",
        "\n",
        "img = 'test.jpg'\n",
        "bbox_prompt_demo = BboxPromptDemo(sam_model)\n",
        "bbox_prompt_demo.show(img)"
      ],
      "metadata": {
        "id": "wyCAzb9Ir0Zx"
      },
      "execution_count": null,
      "outputs": []
    },
    {
      "cell_type": "code",
      "source": [
        "# Mask 확인\n",
        "%matplotlib inline\n",
        "\n",
        "mask = cv2.imread('segs.png') # 이미지 불러오기\n",
        "mask = cv2.cvtColor(mask, cv2.COLOR_RGB2GRAY)\n",
        "plt.imshow(mask,'gray')\n",
        "plt.show()"
      ],
      "metadata": {
        "id": "BCe-wq2wr27Y"
      },
      "execution_count": null,
      "outputs": []
    },
    {
      "cell_type": "markdown",
      "source": [
        "# 2.SAM vs. MedSAM\n",
        "Medical image segmentation"
      ],
      "metadata": {
        "id": "wEc0HZEifyXU"
      }
    },
    {
      "cell_type": "code",
      "source": [
        "# download demo medical image\n",
        "!wget https://github.com/younggon2/Education-ComputerVision-SAM/raw/main/data/ct.png\n",
        "!wget https://github.com/younggon2/Education-ComputerVision-SAM/raw/main/data/pathology.png"
      ],
      "metadata": {
        "id": "vJ_mla8AfdaA"
      },
      "execution_count": null,
      "outputs": []
    },
    {
      "cell_type": "code",
      "source": [
        "# 데이터 확인\n",
        "import cv2\n",
        "import matplotlib.pyplot as plt\n",
        "\n",
        "ct_img = cv2.imread(\"ct.png\") # CT 이미지 불러오기\n",
        "ct_img = cv2.cvtColor(ct_img, cv2.COLOR_BGR2RGB) # BGR이미지 > RGB변환\n",
        "\n",
        "pathology_img = cv2.imread(\"pathology.png\") # Pathology 이미지 불러오기\n",
        "pathology_img = cv2.cvtColor(pathology_img, cv2.COLOR_BGR2RGB) # BGR이미지 > RGB변환\n",
        "\n",
        "plt.subplot(1,2,1)\n",
        "plt.imshow(ct_img)\n",
        "plt.axis('off')\n",
        "plt.subplot(1,2,2)\n",
        "plt.imshow(pathology_img)\n",
        "plt.axis('off')\n",
        "plt.show()"
      ],
      "metadata": {
        "id": "XzEzdqFtfbUN"
      },
      "execution_count": null,
      "outputs": []
    },
    {
      "cell_type": "markdown",
      "source": [
        "### Model load"
      ],
      "metadata": {
        "id": "xKD9QtYHkl9X"
      }
    },
    {
      "cell_type": "code",
      "source": [
        "# SAM model\n",
        "SAM_CKPT_PATH = \"sam_vit_b_01ec64.pth\"\n",
        "device = \"cuda\"\n",
        "sam_model = sam_model_registry['vit_b'](checkpoint=SAM_CKPT_PATH)\n",
        "sam_model = sam_model.to(device)\n",
        "sam_model.eval()\n",
        "\n",
        "# MedSAM model\n",
        "MedSAM_CKPT_PATH = \"medsam_vit_b.pth\"\n",
        "device = \"cuda\"\n",
        "medsam_model = sam_model_registry['vit_b'](checkpoint=MedSAM_CKPT_PATH)\n",
        "medsam_model = medsam_model.to(device)"
      ],
      "metadata": {
        "id": "ul1gl8ifhAFy"
      },
      "execution_count": 18,
      "outputs": []
    },
    {
      "cell_type": "markdown",
      "source": [
        "### SAM inference"
      ],
      "metadata": {
        "id": "egoJL31BkrBq"
      }
    },
    {
      "cell_type": "code",
      "source": [
        "# SAM inference\n",
        "%matplotlib widget\n",
        "\n",
        "ct_img = 'ct.png'\n",
        "bbox_prompt_demo = BboxPromptDemo(sam_model)\n",
        "bbox_prompt_demo.show(ct_img)\n",
        "\n",
        "# pathology_img = 'pathology.png'\n",
        "# bbox_prompt_demo = BboxPromptDemo(sam_model)\n",
        "# bbox_prompt_demo.show(pathology_img)"
      ],
      "metadata": {
        "collapsed": true,
        "id": "3JsUZoAfhtuG"
      },
      "execution_count": null,
      "outputs": []
    },
    {
      "cell_type": "code",
      "source": [
        "# Mask 확인\n",
        "%matplotlib inline\n",
        "\n",
        "mask = cv2.imread('segs.png') # 이미지 불러오기\n",
        "mask = cv2.cvtColor(mask, cv2.COLOR_RGB2GRAY)\n",
        "plt.imshow(mask,'gray')\n",
        "plt.show()"
      ],
      "metadata": {
        "collapsed": true,
        "id": "TrqOiJV5iOFc"
      },
      "execution_count": null,
      "outputs": []
    },
    {
      "cell_type": "markdown",
      "source": [
        "### MedSAM inference"
      ],
      "metadata": {
        "id": "Tk9GCmUek_md"
      }
    },
    {
      "cell_type": "code",
      "source": [
        "# MedSAM inference\n",
        "%matplotlib widget\n",
        "\n",
        "ct_img = 'ct.png'\n",
        "bbox_prompt_demo = BboxPromptDemo(medsam_model)\n",
        "bbox_prompt_demo.show(ct_img)\n",
        "\n",
        "# pathology_img = 'pathology.png'\n",
        "# bbox_prompt_demo = BboxPromptDemo(medsam_model)\n",
        "# bbox_prompt_demo.show(pathology_img)"
      ],
      "metadata": {
        "id": "RNwQlTP6hvwZ"
      },
      "execution_count": null,
      "outputs": []
    },
    {
      "cell_type": "code",
      "source": [
        "# Mask 확인\n",
        "%matplotlib inline\n",
        "\n",
        "mask = cv2.imread('segs.png') # 이미지 불러오기\n",
        "mask = cv2.cvtColor(mask, cv2.COLOR_RGB2GRAY)\n",
        "plt.imshow(mask,'gray')\n",
        "plt.show()"
      ],
      "metadata": {
        "id": "Y4nDyO6HicTO"
      },
      "execution_count": null,
      "outputs": []
    },
    {
      "cell_type": "markdown",
      "source": [
        "# 3.MedSAM을 이용한 반자동 레이블링 (Box 자동 입력)"
      ],
      "metadata": {
        "id": "luQRShq5sI5U"
      }
    },
    {
      "cell_type": "code",
      "execution_count": null,
      "metadata": {
        "id": "JG8P5SI-hfF5",
        "collapsed": true
      },
      "outputs": [],
      "source": [
        "from skimage import io, transform\n",
        "import numpy as np\n",
        "from tqdm import tqdm\n",
        "import cv2\n",
        "import matplotlib.pyplot as plt\n",
        "import os\n",
        "import torch\n",
        "import torch.nn.functional as F\n",
        "import glob\n",
        "from segment_anything import sam_model_registry, SamPredictor"
      ]
    },
    {
      "cell_type": "markdown",
      "source": [
        "## Model load"
      ],
      "metadata": {
        "id": "iQ00X5PxnKww"
      }
    },
    {
      "cell_type": "code",
      "source": [
        "# MedSAM load\n",
        "\n",
        "MedSAM_CKPT_PATH = \"medsam_vit_b.pth\"\n",
        "device = \"cuda\"\n",
        "medsam_model = sam_model_registry['vit_b'](checkpoint=MedSAM_CKPT_PATH)\n",
        "medsam_model = medsam_model.to(device)\n",
        "mask_predictor = SamPredictor(medsam_model)"
      ],
      "metadata": {
        "id": "Wb9hmeuH_9A6"
      },
      "execution_count": null,
      "outputs": []
    },
    {
      "cell_type": "markdown",
      "source": [
        "## Dataset load"
      ],
      "metadata": {
        "id": "p9hG1ju-nU3M"
      }
    },
    {
      "cell_type": "code",
      "source": [
        "# Dataset load\n",
        "!wget https://github.com/younggon2/Education-ComputerVision-SAM/raw/main/data/sample_lung_data.zip\n",
        "!unzip sample_lung_data.zip"
      ],
      "metadata": {
        "id": "mtDEmi1NyJo_"
      },
      "execution_count": null,
      "outputs": []
    },
    {
      "cell_type": "code",
      "source": [
        "# box 좌표가 담겨있는 txt 파일 확인\n",
        "with open(f'sample_lung_data/box/resize_CHNCXR_0001_0.txt') as file :\n",
        "    for line in file:\n",
        "        values = line.strip().split()\n",
        "        print('Box 좌표 :',[int(float(value)*256) for value in values[1:]])"
      ],
      "metadata": {
        "id": "q-R7X-qcppyJ"
      },
      "execution_count": null,
      "outputs": []
    },
    {
      "cell_type": "code",
      "source": [
        "# 하나의 리스트에 모든 이미지 데이터셋 경로 할당\n",
        "img_pathes = sorted(glob.glob('sample_lung_data/img/*.png'))"
      ],
      "metadata": {
        "id": "ZK8T1xJwAONY"
      },
      "execution_count": null,
      "outputs": []
    },
    {
      "cell_type": "markdown",
      "source": [
        "## Main inference"
      ],
      "metadata": {
        "id": "0Bun__zWnZck"
      }
    },
    {
      "cell_type": "code",
      "execution_count": null,
      "metadata": {
        "id": "qItA1sQBt1mV"
      },
      "outputs": [],
      "source": [
        "def show_mask(mask, ax, random_color=False):\n",
        "    if random_color:\n",
        "        color = np.concatenate([np.random.random(3), np.array([0.6])], axis=0)\n",
        "    else:\n",
        "        color = np.array([30/255, 144/255, 255/255, 0.6])\n",
        "    h, w = mask.shape[-2:]\n",
        "    mask_image = mask.reshape(h, w, 1) * color.reshape(1, 1, -1)\n",
        "    ax.imshow(mask_image)\n",
        "\n",
        "def show_box(box, ax):\n",
        "    # box = [x_min, y_min, x_max, y_max]\n",
        "    x0, y0 = box[0], box[1]\n",
        "    w, h = box[2] - box[0], box[3] - box[1]\n",
        "    ax.add_patch(plt.Rectangle((x0, y0), w, h, edgecolor='green', facecolor=(0,0,0,0), lw=2))\n",
        "\n",
        "def modify_coords(bbox_list):\n",
        "    boxes = []\n",
        "    for bbox in bbox_list:\n",
        "        x_center, y_center, w, h = bbox\n",
        "        x_min = int(x_center - w / 2)\n",
        "        y_min = int(y_center - h / 2)\n",
        "        x_max = int(x_center + w / 2)\n",
        "        y_max = int(y_center + h / 2)\n",
        "        boxes.append([x_min, y_min, x_max, y_max])\n",
        "    return boxes"
      ]
    },
    {
      "cell_type": "code",
      "source": [
        "# Main\n",
        "# MedSAM multi-class\n",
        "\n",
        "for i, path in enumerate (tqdm(img_pathes)):\n",
        "    name = path.split('/')[-1].split('.')[0]\n",
        "\n",
        "    # 이미지 불러오기\n",
        "    image = cv2.imread(path)\n",
        "    image = cv2.cvtColor(image, cv2.COLOR_RGB2BGR)\n",
        "\n",
        "    mask_predictor.set_image(image)\n",
        "\n",
        "    H, W, _ = image.shape\n",
        "\n",
        "    bbox_list = []\n",
        "    classes = []\n",
        "    # box 좌표가 담겨있는 txt 파일 불러오기\n",
        "    with open(f'sample_lung_data/box/{name}.txt') as file :\n",
        "        for line in file:\n",
        "            values = line.strip().split()\n",
        "            bbox_list.append([int(float(value)*H) for value in values[1:]])\n",
        "            classes.append([int(value) for value in values[0]])\n",
        "    bboxes = modify_coords(bbox_list)\n",
        "    input_boxes = torch.tensor(bboxes, device=mask_predictor.device)\n",
        "\n",
        "    # box 좌표를 모델에 입력\n",
        "    transformed_boxes = mask_predictor.transform.apply_boxes_torch(input_boxes, image.shape[:2])\n",
        "\n",
        "    # 예측\n",
        "    masks, _, _ = mask_predictor.predict_torch(\n",
        "        point_coords=None,\n",
        "        point_labels=None,\n",
        "        boxes=transformed_boxes,\n",
        "        multimask_output=False,\n",
        "    )\n",
        "\n",
        "    # mask, box 확인\n",
        "    plt.figure(figsize=(10, 5))\n",
        "    plt.subplot(1,2,1)\n",
        "    plt.title('Segmented Image')\n",
        "    plt.imshow(image)\n",
        "    for mask in masks:\n",
        "        show_mask(mask.cpu().numpy(), plt.gca(), random_color=True)\n",
        "    for box in input_boxes:\n",
        "        show_box(box.cpu().numpy(), plt.gca())\n",
        "    plt.axis('off')\n",
        "    # plt.show()\n",
        "\n",
        "    # Save box image\n",
        "#     plt.savefig(f\"sample_lung_data/mask/{name}_seg.png\", bbox_inches='tight', pad_inches=0)\n",
        "\n",
        "    # 예측한 mask들을 하나의 마스크로 결합\n",
        "    combined_mask = np.zeros((H, W), dtype=np.uint8)\n",
        "    for idx, mask in enumerate(masks):\n",
        "        class_ = classes[idx][0]\n",
        "        mask_np = mask.cpu().numpy()[0]\n",
        "        mask_binary = (mask_np > 0.5).astype(np.uint8) * (class_+1)  # 이진화\n",
        "        combined_mask = np.maximum(combined_mask, mask_binary)  # 최대값으로 결합\n",
        "    plt.subplot(1,2,2)\n",
        "    plt.title('Mask Image')\n",
        "    plt.imshow(combined_mask)\n",
        "    plt.show()\n",
        "\n",
        "    # Save mask\n",
        "    # io.imsave(f\"sample_lung_data/mask/{name}.png\", combined_mask)"
      ],
      "metadata": {
        "id": "E0F43GMSlKJv"
      },
      "execution_count": null,
      "outputs": []
    }
  ],
  "metadata": {
    "colab": {
      "provenance": [],
      "gpuType": "T4",
      "toc_visible": true
    },
    "kernelspec": {
      "display_name": "Python 3",
      "name": "python3"
    },
    "language_info": {
      "name": "python"
    },
    "accelerator": "GPU"
  },
  "nbformat": 4,
  "nbformat_minor": 0
}